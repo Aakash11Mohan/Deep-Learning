{
 "cells": [
  {
   "cell_type": "markdown",
   "metadata": {
    "colab_type": "text",
    "id": "3DR-eO17geWu"
   },
   "source": [
    "# Convolutional Neural Network"
   ]
  },
  {
   "cell_type": "markdown",
   "metadata": {
    "colab_type": "text",
    "id": "EMefrVPCg-60"
   },
   "source": [
    "### Importing the libraries"
   ]
  },
  {
   "cell_type": "code",
   "execution_count": 1,
   "metadata": {
    "colab": {},
    "colab_type": "code",
    "id": "sCV30xyVhFbE"
   },
   "outputs": [],
   "source": [
    "import tensorflow as tf\n",
    "from keras.preprocessing.image import ImageDataGenerator"
   ]
  },
  {
   "cell_type": "code",
   "execution_count": 2,
   "metadata": {
    "colab": {
     "base_uri": "https://localhost:8080/",
     "height": 35
    },
    "colab_type": "code",
    "id": "FIleuCAjoFD8",
    "outputId": "2adbbf46-1f03-4f90-fb6c-fb54294057b0"
   },
   "outputs": [
    {
     "data": {
      "text/plain": [
       "'2.3.0'"
      ]
     },
     "execution_count": 2,
     "metadata": {},
     "output_type": "execute_result"
    }
   ],
   "source": [
    "tf.__version__"
   ]
  },
  {
   "cell_type": "markdown",
   "metadata": {
    "colab_type": "text",
    "id": "oxQxCBWyoGPE"
   },
   "source": [
    "## Part 1 - Data Preprocessing"
   ]
  },
  {
   "cell_type": "markdown",
   "metadata": {
    "colab_type": "text",
    "id": "MvE-heJNo3GG"
   },
   "source": [
    "### Preprocessing the Training set"
   ]
  },
  {
   "cell_type": "code",
   "execution_count": 3,
   "metadata": {
    "colab": {},
    "colab_type": "code",
    "id": "0koUcJMJpEBD"
   },
   "outputs": [
    {
     "name": "stdout",
     "output_type": "stream",
     "text": [
      "Found 8000 images belonging to 2 classes.\n"
     ]
    }
   ],
   "source": [
    "train_datagen = ImageDataGenerator(\n",
    "        rescale=1./255,\n",
    "        shear_range=0.2,\n",
    "        zoom_range=0.2,\n",
    "        horizontal_flip=True)\n",
    "#C:\\Users\\Kyle\\Desktop\\Deep Learning Materials\\CNN\\Part 2 - Convolutional Neural Networks\\dataset\\training_set\n",
    "training_set = train_datagen.flow_from_directory(\n",
    "        'dataset/training_set',\n",
    "        target_size=(64, 64),\n",
    "        batch_size=32,\n",
    "        class_mode='binary')"
   ]
  },
  {
   "cell_type": "markdown",
   "metadata": {
    "colab_type": "text",
    "id": "mrCMmGw9pHys"
   },
   "source": [
    "### Preprocessing the Test set"
   ]
  },
  {
   "cell_type": "code",
   "execution_count": 4,
   "metadata": {
    "colab": {},
    "colab_type": "code",
    "id": "SH4WzfOhpKc3"
   },
   "outputs": [
    {
     "name": "stdout",
     "output_type": "stream",
     "text": [
      "Found 2000 images belonging to 2 classes.\n"
     ]
    }
   ],
   "source": [
    "test_datagen = ImageDataGenerator(rescale=1./255)\n",
    "#C:\\Users\\Kyle\\Desktop\\Deep Learning Materials\\CNN\\Part 2 - Convolutional Neural Networks\\dataset\\test_set\n",
    "test_set = test_datagen.flow_from_directory(\n",
    "        'dataset/test_set',\n",
    "        target_size=(64, 64),\n",
    "        batch_size=32,\n",
    "        class_mode='binary')"
   ]
  },
  {
   "cell_type": "markdown",
   "metadata": {
    "colab_type": "text",
    "id": "af8O4l90gk7B"
   },
   "source": [
    "## Part 2 - Building the CNN"
   ]
  },
  {
   "cell_type": "markdown",
   "metadata": {
    "colab_type": "text",
    "id": "ces1gXY2lmoX"
   },
   "source": [
    "### Initialising the CNN"
   ]
  },
  {
   "cell_type": "code",
   "execution_count": 5,
   "metadata": {
    "colab": {},
    "colab_type": "code",
    "id": "SAUt4UMPlhLS"
   },
   "outputs": [],
   "source": [
    "cnn = tf.keras.models.Sequential()"
   ]
  },
  {
   "cell_type": "markdown",
   "metadata": {
    "colab_type": "text",
    "id": "u5YJj_XMl5LF"
   },
   "source": [
    "### Step 1 - Convolution"
   ]
  },
  {
   "cell_type": "code",
   "execution_count": 6,
   "metadata": {
    "colab": {},
    "colab_type": "code",
    "id": "XPzPrMckl-hV"
   },
   "outputs": [],
   "source": [
    "cnn.add(tf.keras.layers.Conv2D(filters=32,kernel_size=3,activation='relu',input_shape=[64,64,3]))"
   ]
  },
  {
   "cell_type": "markdown",
   "metadata": {
    "colab_type": "text",
    "id": "tf87FpvxmNOJ"
   },
   "source": [
    "### Step 2 - Pooling"
   ]
  },
  {
   "cell_type": "code",
   "execution_count": 7,
   "metadata": {
    "colab": {},
    "colab_type": "code",
    "id": "ncpqPl69mOac"
   },
   "outputs": [],
   "source": [
    "cnn.add(tf.keras.layers.MaxPooling2D(pool_size=2,strides=2))"
   ]
  },
  {
   "cell_type": "markdown",
   "metadata": {
    "colab_type": "text",
    "id": "xaTOgD8rm4mU"
   },
   "source": [
    "### Adding a second convolutional layer"
   ]
  },
  {
   "cell_type": "code",
   "execution_count": 8,
   "metadata": {
    "colab": {},
    "colab_type": "code",
    "id": "i_-FZjn_m8gk"
   },
   "outputs": [],
   "source": [
    "cnn.add(tf.keras.layers.Conv2D(filters=32,kernel_size=3,activation='relu'))\n",
    "cnn.add(tf.keras.layers.MaxPooling2D(pool_size=2,strides=2))"
   ]
  },
  {
   "cell_type": "markdown",
   "metadata": {
    "colab_type": "text",
    "id": "tmiEuvTunKfk"
   },
   "source": [
    "### Step 3 - Flattening"
   ]
  },
  {
   "cell_type": "code",
   "execution_count": 9,
   "metadata": {
    "colab": {},
    "colab_type": "code",
    "id": "6AZeOGCvnNZn"
   },
   "outputs": [],
   "source": [
    "cnn.add(tf.keras.layers.Flatten())"
   ]
  },
  {
   "cell_type": "markdown",
   "metadata": {
    "colab_type": "text",
    "id": "dAoSECOm203v"
   },
   "source": [
    "### Step 4 - Full Connection"
   ]
  },
  {
   "cell_type": "code",
   "execution_count": 10,
   "metadata": {
    "colab": {},
    "colab_type": "code",
    "id": "8GtmUlLd26Nq"
   },
   "outputs": [],
   "source": [
    "cnn.add(tf.keras.layers.Dense(units=128, activation='relu'))"
   ]
  },
  {
   "cell_type": "markdown",
   "metadata": {
    "colab_type": "text",
    "id": "yTldFvbX28Na"
   },
   "source": [
    "### Step 5 - Output Layer"
   ]
  },
  {
   "cell_type": "code",
   "execution_count": 11,
   "metadata": {
    "colab": {},
    "colab_type": "code",
    "id": "1p_Zj1Mc3Ko_"
   },
   "outputs": [],
   "source": [
    "cnn.add(tf.keras.layers.Dense(units=1, activation='sigmoid'))"
   ]
  },
  {
   "cell_type": "markdown",
   "metadata": {
    "colab_type": "text",
    "id": "D6XkI90snSDl"
   },
   "source": [
    "## Part 3 - Training the CNN"
   ]
  },
  {
   "cell_type": "markdown",
   "metadata": {
    "colab_type": "text",
    "id": "vfrFQACEnc6i"
   },
   "source": [
    "### Compiling the CNN"
   ]
  },
  {
   "cell_type": "code",
   "execution_count": 12,
   "metadata": {
    "colab": {},
    "colab_type": "code",
    "id": "NALksrNQpUlJ"
   },
   "outputs": [],
   "source": [
    "cnn.compile(optimizer = 'adam', loss = 'binary_crossentropy', metrics = ['accuracy'])"
   ]
  },
  {
   "cell_type": "markdown",
   "metadata": {
    "colab_type": "text",
    "id": "ehS-v3MIpX2h"
   },
   "source": [
    "### Training the CNN on the Training set and evaluating it on the Test set"
   ]
  },
  {
   "cell_type": "code",
   "execution_count": 13,
   "metadata": {
    "colab": {},
    "colab_type": "code",
    "id": "XUj1W4PJptta"
   },
   "outputs": [
    {
     "name": "stdout",
     "output_type": "stream",
     "text": [
      "Epoch 1/25\n",
      "250/250 [==============================] - 90s 362ms/step - loss: 0.6636 - accuracy: 0.5969 - val_loss: 0.6529 - val_accuracy: 0.6290\n",
      "Epoch 2/25\n",
      "250/250 [==============================] - 41s 165ms/step - loss: 0.5833 - accuracy: 0.6929 - val_loss: 0.5777 - val_accuracy: 0.6940\n",
      "Epoch 3/25\n",
      "250/250 [==============================] - 41s 162ms/step - loss: 0.5401 - accuracy: 0.7225 - val_loss: 0.6347 - val_accuracy: 0.6815\n",
      "Epoch 4/25\n",
      "250/250 [==============================] - 38s 153ms/step - loss: 0.5104 - accuracy: 0.7500 - val_loss: 0.5129 - val_accuracy: 0.7480\n",
      "Epoch 5/25\n",
      "250/250 [==============================] - 40s 159ms/step - loss: 0.4838 - accuracy: 0.7641 - val_loss: 0.4742 - val_accuracy: 0.7710\n",
      "Epoch 6/25\n",
      "250/250 [==============================] - 40s 159ms/step - loss: 0.4634 - accuracy: 0.7789 - val_loss: 0.4961 - val_accuracy: 0.7650\n",
      "Epoch 7/25\n",
      "250/250 [==============================] - 38s 150ms/step - loss: 0.4475 - accuracy: 0.7872 - val_loss: 0.4600 - val_accuracy: 0.7870\n",
      "Epoch 8/25\n",
      "250/250 [==============================] - 38s 151ms/step - loss: 0.4336 - accuracy: 0.7947 - val_loss: 0.4397 - val_accuracy: 0.7920\n",
      "Epoch 9/25\n",
      "250/250 [==============================] - 38s 151ms/step - loss: 0.4235 - accuracy: 0.8049 - val_loss: 0.4442 - val_accuracy: 0.8015\n",
      "Epoch 10/25\n",
      "250/250 [==============================] - 37s 147ms/step - loss: 0.4119 - accuracy: 0.8106 - val_loss: 0.4386 - val_accuracy: 0.7915\n",
      "Epoch 11/25\n",
      "250/250 [==============================] - 37s 149ms/step - loss: 0.3963 - accuracy: 0.8154 - val_loss: 0.4368 - val_accuracy: 0.7935\n",
      "Epoch 12/25\n",
      "250/250 [==============================] - 42s 167ms/step - loss: 0.3777 - accuracy: 0.8291 - val_loss: 0.4397 - val_accuracy: 0.7915\n",
      "Epoch 13/25\n",
      "250/250 [==============================] - 37s 150ms/step - loss: 0.3616 - accuracy: 0.8342 - val_loss: 0.4930 - val_accuracy: 0.7795\n",
      "Epoch 14/25\n",
      "250/250 [==============================] - 36s 145ms/step - loss: 0.3510 - accuracy: 0.8389 - val_loss: 0.4353 - val_accuracy: 0.8015\n",
      "Epoch 15/25\n",
      "250/250 [==============================] - 36s 145ms/step - loss: 0.3377 - accuracy: 0.8519 - val_loss: 0.4357 - val_accuracy: 0.8065\n",
      "Epoch 16/25\n",
      "250/250 [==============================] - 36s 146ms/step - loss: 0.3247 - accuracy: 0.8571 - val_loss: 0.4422 - val_accuracy: 0.8060\n",
      "Epoch 17/25\n",
      "250/250 [==============================] - 37s 147ms/step - loss: 0.3042 - accuracy: 0.8675 - val_loss: 0.4662 - val_accuracy: 0.8040\n",
      "Epoch 18/25\n",
      "250/250 [==============================] - 36s 145ms/step - loss: 0.3003 - accuracy: 0.8700 - val_loss: 0.4593 - val_accuracy: 0.8020\n",
      "Epoch 19/25\n",
      "250/250 [==============================] - 36s 145ms/step - loss: 0.2733 - accuracy: 0.8798 - val_loss: 0.4966 - val_accuracy: 0.8015\n",
      "Epoch 20/25\n",
      "250/250 [==============================] - 37s 146ms/step - loss: 0.2690 - accuracy: 0.8838 - val_loss: 0.4777 - val_accuracy: 0.8085\n",
      "Epoch 21/25\n",
      "250/250 [==============================] - 36s 146ms/step - loss: 0.2610 - accuracy: 0.8924 - val_loss: 0.4757 - val_accuracy: 0.8060\n",
      "Epoch 22/25\n",
      "250/250 [==============================] - 39s 155ms/step - loss: 0.2459 - accuracy: 0.9031 - val_loss: 0.4970 - val_accuracy: 0.8110\n",
      "Epoch 23/25\n",
      "250/250 [==============================] - 36s 146ms/step - loss: 0.2320 - accuracy: 0.9026 - val_loss: 0.4980 - val_accuracy: 0.8035\n",
      "Epoch 24/25\n",
      "250/250 [==============================] - 36s 145ms/step - loss: 0.2140 - accuracy: 0.9122 - val_loss: 0.5729 - val_accuracy: 0.7965\n",
      "Epoch 25/25\n",
      "250/250 [==============================] - 36s 145ms/step - loss: 0.2058 - accuracy: 0.9189 - val_loss: 0.5894 - val_accuracy: 0.8035\n"
     ]
    },
    {
     "data": {
      "text/plain": [
       "<tensorflow.python.keras.callbacks.History at 0x2319e253820>"
      ]
     },
     "execution_count": 13,
     "metadata": {},
     "output_type": "execute_result"
    }
   ],
   "source": [
    "cnn.fit(x = training_set, validation_data = test_set, epochs = 25)"
   ]
  },
  {
   "cell_type": "markdown",
   "metadata": {
    "colab_type": "text",
    "id": "U3PZasO0006Z"
   },
   "source": [
    "## Part 4 - Making a single prediction"
   ]
  },
  {
   "cell_type": "code",
   "execution_count": 25,
   "metadata": {
    "colab": {},
    "colab_type": "code",
    "id": "gsSiWEJY1BPB"
   },
   "outputs": [],
   "source": [
    "import numpy as np\n",
    "from keras.preprocessing import image\n",
    "test_image = image.load_img('dataset/single_prediction/cat_or_dog_2.jpg', target_size = (64, 64))\n",
    "test_image = image.img_to_array(test_image)\n",
    "test_image = np.expand_dims(test_image, axis = 0)\n",
    "result = cnn.predict(test_image)\n",
    "training_set.class_indices\n",
    "if result[0][0] == 1:\n",
    "  prediction = 'dog'\n",
    "else:\n",
    "  prediction = 'cat'"
   ]
  },
  {
   "cell_type": "code",
   "execution_count": 26,
   "metadata": {
    "colab": {},
    "colab_type": "code",
    "id": "ED9KB3I54c1i"
   },
   "outputs": [
    {
     "name": "stdout",
     "output_type": "stream",
     "text": [
      "dog\n"
     ]
    }
   ],
   "source": [
    "print(prediction)"
   ]
  },
  {
   "cell_type": "code",
   "execution_count": null,
   "metadata": {},
   "outputs": [],
   "source": []
  }
 ],
 "metadata": {
  "accelerator": "GPU",
  "colab": {
   "collapsed_sections": [],
   "name": "Copy of convolutional_neural_network.ipynb",
   "provenance": [],
   "toc_visible": true
  },
  "kernelspec": {
   "display_name": "Python 3",
   "language": "python",
   "name": "python3"
  },
  "language_info": {
   "codemirror_mode": {
    "name": "ipython",
    "version": 3
   },
   "file_extension": ".py",
   "mimetype": "text/x-python",
   "name": "python",
   "nbconvert_exporter": "python",
   "pygments_lexer": "ipython3",
   "version": "3.8.3"
  }
 },
 "nbformat": 4,
 "nbformat_minor": 1
}
